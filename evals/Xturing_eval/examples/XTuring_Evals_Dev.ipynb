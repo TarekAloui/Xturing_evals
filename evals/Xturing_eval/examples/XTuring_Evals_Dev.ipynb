{
  "nbformat": 4,
  "nbformat_minor": 0,
  "metadata": {
    "colab": {
      "provenance": [],
      "machine_shape": "hm"
    },
    "kernelspec": {
      "name": "python3",
      "display_name": "Python 3"
    },
    "language_info": {
      "name": "python"
    },
    "accelerator": "GPU",
    "gpuClass": "premium"
  },
  "cells": [
    {
      "cell_type": "code",
      "source": [
        "# Cleaning for new git clone\n",
        "import shutil\n",
        "shutil.rmtree(\"Xturing_evals\", ignore_errors=True)\n",
        "shutil.rmtree(\"sample_data\", ignore_errors=True)"
      ],
      "metadata": {
        "id": "bElqdwFpoPr5"
      },
      "execution_count": 8,
      "outputs": []
    },
    {
      "cell_type": "code",
      "execution_count": 9,
      "metadata": {
        "colab": {
          "base_uri": "https://localhost:8080/"
        },
        "id": "AszQf6bEkk0M",
        "outputId": "02ee9292-76dd-48d7-ccb7-f581594a1648"
      },
      "outputs": [
        {
          "output_type": "stream",
          "name": "stdout",
          "text": [
            "Cloning into 'Xturing_evals'...\n",
            "remote: Enumerating objects: 836, done.\u001b[K\n",
            "remote: Counting objects: 100% (836/836), done.\u001b[K\n",
            "remote: Compressing objects: 100% (409/409), done.\u001b[K\n",
            "remote: Total 836 (delta 398), reused 808 (delta 370), pack-reused 0\u001b[K\n",
            "Receiving objects: 100% (836/836), 307.64 KiB | 3.84 MiB/s, done.\n",
            "Resolving deltas: 100% (398/398), done.\n",
            "Downloading evals/registry/data/aba_mrpc_true_false/samples.jsonl (40 KB)\n",
            "Error downloading object: evals/registry/data/aba_mrpc_true_false/samples.jsonl (7d3923b): Smudge error: Error downloading evals/registry/data/aba_mrpc_true_false/samples.jsonl (7d3923b3ded9759106282a1c67d3c2e41222ad5c167439cbe31da448d29e684e): batch response: This repository is over its data quota. Account responsible for LFS bandwidth should purchase more data packs to restore access.\n",
            "\n",
            "Errors logged to /content/Xturing_evals/.git/lfs/logs/20230409T202748.663951472.log\n",
            "Use `git lfs logs last` to view the log.\n",
            "error: external filter 'git-lfs filter-process' failed\n",
            "fatal: evals/registry/data/aba_mrpc_true_false/samples.jsonl: smudge filter lfs failed\n",
            "warning: Clone succeeded, but checkout failed.\n",
            "You can inspect what was checked out with 'git status'\n",
            "and retry with 'git restore --source=HEAD :/'\n",
            "\n"
          ]
        }
      ],
      "source": [
        "# Cloning repo\n",
        "!git clone https://github.com/TarekAloui/Xturing_evals.git"
      ]
    },
    {
      "cell_type": "code",
      "source": [
        "%cd Xturing_evals/\n",
        "!ls"
      ],
      "metadata": {
        "colab": {
          "base_uri": "https://localhost:8080/"
        },
        "id": "EeX7e1g4VR41",
        "outputId": "b0e6199c-68e7-4add-baf3-d205e748ffde"
      },
      "execution_count": 10,
      "outputs": [
        {
          "output_type": "stream",
          "name": "stdout",
          "text": [
            "/content/Xturing_evals\n",
            "docs   examples  Makefile     mypy.ini\t      README.md  SECURITY.md\n",
            "evals  LICENSE\t MANIFEST.in  pyproject.toml  scripts\n"
          ]
        }
      ]
    },
    {
      "cell_type": "code",
      "source": [
        "!python3 -m pip install --upgrade tensorrt"
      ],
      "metadata": {
        "colab": {
          "base_uri": "https://localhost:8080/"
        },
        "id": "f8BBQoykepPX",
        "outputId": "f7cbb46f-15b1-4cad-b529-199926165642"
      },
      "execution_count": 4,
      "outputs": [
        {
          "output_type": "stream",
          "name": "stdout",
          "text": [
            "Looking in indexes: https://pypi.org/simple, https://us-python.pkg.dev/colab-wheels/public/simple/\n",
            "Collecting tensorrt\n",
            "  Downloading tensorrt-8.6.0-cp39-none-manylinux_2_17_x86_64.whl (819.2 MB)\n",
            "\u001b[2K     \u001b[90m━━━━━━━━━━━━━━━━━━━━━━━━━━━━━━━━━━━━━━━\u001b[0m \u001b[32m819.2/819.2 MB\u001b[0m \u001b[31m2.0 MB/s\u001b[0m eta \u001b[36m0:00:00\u001b[0m\n",
            "\u001b[?25hCollecting nvidia-cublas-cu12\n",
            "  Downloading nvidia_cublas_cu12-12.1.0.26-py3-none-manylinux1_x86_64.whl (379.5 MB)\n",
            "\u001b[2K     \u001b[90m━━━━━━━━━━━━━━━━━━━━━━━━━━━━━━━━━━━━━━━\u001b[0m \u001b[32m379.5/379.5 MB\u001b[0m \u001b[31m2.7 MB/s\u001b[0m eta \u001b[36m0:00:00\u001b[0m\n",
            "\u001b[?25hCollecting nvidia-cuda-runtime-cu12\n",
            "  Downloading nvidia_cuda_runtime_cu12-12.1.55-py3-none-manylinux1_x86_64.whl (823 kB)\n",
            "\u001b[2K     \u001b[90m━━━━━━━━━━━━━━━━━━━━━━━━━━━━━━━━━━━━━━\u001b[0m \u001b[32m823.5/823.5 KB\u001b[0m \u001b[31m55.7 MB/s\u001b[0m eta \u001b[36m0:00:00\u001b[0m\n",
            "\u001b[?25hCollecting nvidia-cudnn-cu12\n",
            "  Downloading nvidia_cudnn_cu12-8.8.1.3-py3-none-manylinux1_x86_64.whl (718.4 MB)\n",
            "\u001b[2K     \u001b[90m━━━━━━━━━━━━━━━━━━━━━━━━━━━━━━━━━━━━━━━\u001b[0m \u001b[32m718.4/718.4 MB\u001b[0m \u001b[31m2.0 MB/s\u001b[0m eta \u001b[36m0:00:00\u001b[0m\n",
            "\u001b[?25hInstalling collected packages: nvidia-cuda-runtime-cu12, nvidia-cublas-cu12, nvidia-cudnn-cu12, tensorrt\n",
            "Successfully installed nvidia-cublas-cu12-12.1.0.26 nvidia-cuda-runtime-cu12-12.1.55 nvidia-cudnn-cu12-8.8.1.3 tensorrt-8.6.0\n"
          ]
        }
      ]
    },
    {
      "cell_type": "code",
      "source": [
        "!pip install -e ."
      ],
      "metadata": {
        "id": "SmMzdwLbVqa6",
        "colab": {
          "base_uri": "https://localhost:8080/"
        },
        "outputId": "4da656ca-d6b2-45c5-a57f-aba570fd33a1"
      },
      "execution_count": 11,
      "outputs": [
        {
          "output_type": "stream",
          "name": "stdout",
          "text": [
            "Looking in indexes: https://pypi.org/simple, https://us-python.pkg.dev/colab-wheels/public/simple/\n",
            "Obtaining file:///content/Xturing_evals\n",
            "  Installing build dependencies ... \u001b[?25l\u001b[?25hdone\n",
            "  Checking if build backend supports build_editable ... \u001b[?25l\u001b[?25hdone\n",
            "  Getting requirements to build editable ... \u001b[?25l\u001b[?25hdone\n",
            "  Preparing editable metadata (pyproject.toml) ... \u001b[?25l\u001b[?25hdone\n",
            "Requirement already satisfied: pyyaml in /usr/local/lib/python3.9/dist-packages (from evals==0.1.1) (6.0)\n",
            "Requirement already satisfied: langdetect in /usr/local/lib/python3.9/dist-packages (from evals==0.1.1) (1.0.9)\n",
            "Requirement already satisfied: tiktoken in /usr/local/lib/python3.9/dist-packages (from evals==0.1.1) (0.3.3)\n",
            "Requirement already satisfied: filelock in /usr/local/lib/python3.9/dist-packages (from evals==0.1.1) (3.10.7)\n",
            "Requirement already satisfied: pydantic in /usr/local/lib/python3.9/dist-packages (from evals==0.1.1) (1.10.7)\n",
            "Requirement already satisfied: pyzstd in /usr/local/lib/python3.9/dist-packages (from evals==0.1.1) (0.15.6)\n",
            "Requirement already satisfied: matplotlib in /usr/local/lib/python3.9/dist-packages (from evals==0.1.1) (3.7.1)\n",
            "Requirement already satisfied: numpy in /usr/local/lib/python3.9/dist-packages (from evals==0.1.1) (1.22.4)\n",
            "Requirement already satisfied: snowflake-connector-python[pandas] in /usr/local/lib/python3.9/dist-packages (from evals==0.1.1) (3.0.2)\n",
            "Requirement already satisfied: termcolor in /usr/local/lib/python3.9/dist-packages (from evals==0.1.1) (2.2.0)\n",
            "Requirement already satisfied: lz4 in /usr/local/lib/python3.9/dist-packages (from evals==0.1.1) (4.3.2)\n",
            "Requirement already satisfied: pandas in /usr/local/lib/python3.9/dist-packages (from evals==0.1.1) (1.4.4)\n",
            "Requirement already satisfied: mock in /usr/local/lib/python3.9/dist-packages (from evals==0.1.1) (5.0.1)\n",
            "Requirement already satisfied: nltk in /usr/local/lib/python3.9/dist-packages (from evals==0.1.1) (3.8.1)\n",
            "Requirement already satisfied: openai>=0.27.2 in /usr/local/lib/python3.9/dist-packages (from evals==0.1.1) (0.27.4)\n",
            "Requirement already satisfied: fire in /usr/local/lib/python3.9/dist-packages (from evals==0.1.1) (0.5.0)\n",
            "Requirement already satisfied: backoff in /usr/local/lib/python3.9/dist-packages (from evals==0.1.1) (2.2.1)\n",
            "Requirement already satisfied: sacrebleu in /usr/local/lib/python3.9/dist-packages (from evals==0.1.1) (2.3.1)\n",
            "Requirement already satisfied: xturing in /usr/local/lib/python3.9/dist-packages (from evals==0.1.1) (0.0.9)\n",
            "Requirement already satisfied: blobfile in /usr/local/lib/python3.9/dist-packages (from evals==0.1.1) (2.0.1)\n",
            "Requirement already satisfied: transformers in /usr/local/lib/python3.9/dist-packages (from evals==0.1.1) (4.27.3)\n",
            "Requirement already satisfied: mypy in /usr/local/lib/python3.9/dist-packages (from evals==0.1.1) (1.2.0)\n",
            "Requirement already satisfied: tqdm in /usr/local/lib/python3.9/dist-packages (from evals==0.1.1) (4.65.0)\n",
            "Requirement already satisfied: requests>=2.20 in /usr/local/lib/python3.9/dist-packages (from openai>=0.27.2->evals==0.1.1) (2.27.1)\n",
            "Requirement already satisfied: aiohttp in /usr/local/lib/python3.9/dist-packages (from openai>=0.27.2->evals==0.1.1) (3.8.4)\n",
            "Requirement already satisfied: lxml~=4.9 in /usr/local/lib/python3.9/dist-packages (from blobfile->evals==0.1.1) (4.9.2)\n",
            "Requirement already satisfied: pycryptodomex~=3.8 in /usr/local/lib/python3.9/dist-packages (from blobfile->evals==0.1.1) (3.17)\n",
            "Requirement already satisfied: urllib3<3,>=1.25.3 in /usr/local/lib/python3.9/dist-packages (from blobfile->evals==0.1.1) (1.26.15)\n",
            "Requirement already satisfied: six in /usr/local/lib/python3.9/dist-packages (from fire->evals==0.1.1) (1.16.0)\n",
            "Requirement already satisfied: contourpy>=1.0.1 in /usr/local/lib/python3.9/dist-packages (from matplotlib->evals==0.1.1) (1.0.7)\n",
            "Requirement already satisfied: packaging>=20.0 in /usr/local/lib/python3.9/dist-packages (from matplotlib->evals==0.1.1) (23.0)\n",
            "Requirement already satisfied: kiwisolver>=1.0.1 in /usr/local/lib/python3.9/dist-packages (from matplotlib->evals==0.1.1) (1.4.4)\n",
            "Requirement already satisfied: pillow>=6.2.0 in /usr/local/lib/python3.9/dist-packages (from matplotlib->evals==0.1.1) (8.4.0)\n",
            "Requirement already satisfied: importlib-resources>=3.2.0 in /usr/local/lib/python3.9/dist-packages (from matplotlib->evals==0.1.1) (5.12.0)\n",
            "Requirement already satisfied: cycler>=0.10 in /usr/local/lib/python3.9/dist-packages (from matplotlib->evals==0.1.1) (0.11.0)\n",
            "Requirement already satisfied: pyparsing>=2.3.1 in /usr/local/lib/python3.9/dist-packages (from matplotlib->evals==0.1.1) (3.0.9)\n",
            "Requirement already satisfied: fonttools>=4.22.0 in /usr/local/lib/python3.9/dist-packages (from matplotlib->evals==0.1.1) (4.39.3)\n",
            "Requirement already satisfied: python-dateutil>=2.7 in /usr/local/lib/python3.9/dist-packages (from matplotlib->evals==0.1.1) (2.8.2)\n",
            "Requirement already satisfied: typing-extensions>=3.10 in /usr/local/lib/python3.9/dist-packages (from mypy->evals==0.1.1) (4.5.0)\n",
            "Requirement already satisfied: mypy-extensions>=1.0.0 in /usr/local/lib/python3.9/dist-packages (from mypy->evals==0.1.1) (1.0.0)\n",
            "Requirement already satisfied: tomli>=1.1.0 in /usr/local/lib/python3.9/dist-packages (from mypy->evals==0.1.1) (2.0.1)\n",
            "Requirement already satisfied: regex>=2021.8.3 in /usr/local/lib/python3.9/dist-packages (from nltk->evals==0.1.1) (2022.10.31)\n",
            "Requirement already satisfied: click in /usr/local/lib/python3.9/dist-packages (from nltk->evals==0.1.1) (8.1.3)\n",
            "Requirement already satisfied: joblib in /usr/local/lib/python3.9/dist-packages (from nltk->evals==0.1.1) (1.1.1)\n",
            "Requirement already satisfied: pytz>=2020.1 in /usr/local/lib/python3.9/dist-packages (from pandas->evals==0.1.1) (2022.7.1)\n",
            "Requirement already satisfied: portalocker in /usr/local/lib/python3.9/dist-packages (from sacrebleu->evals==0.1.1) (2.7.0)\n",
            "Requirement already satisfied: tabulate>=0.8.9 in /usr/local/lib/python3.9/dist-packages (from sacrebleu->evals==0.1.1) (0.8.10)\n",
            "Requirement already satisfied: colorama in /usr/local/lib/python3.9/dist-packages (from sacrebleu->evals==0.1.1) (0.4.6)\n",
            "Requirement already satisfied: cryptography<41.0.0,>=3.1.0 in /usr/local/lib/python3.9/dist-packages (from snowflake-connector-python[pandas]->evals==0.1.1) (40.0.1)\n",
            "Requirement already satisfied: pyOpenSSL<24.0.0,>=16.2.0 in /usr/local/lib/python3.9/dist-packages (from snowflake-connector-python[pandas]->evals==0.1.1) (23.1.1)\n",
            "Requirement already satisfied: certifi>=2017.4.17 in /usr/local/lib/python3.9/dist-packages (from snowflake-connector-python[pandas]->evals==0.1.1) (2022.12.7)\n",
            "Requirement already satisfied: idna<4,>=2.5 in /usr/local/lib/python3.9/dist-packages (from snowflake-connector-python[pandas]->evals==0.1.1) (3.4)\n",
            "Requirement already satisfied: asn1crypto<2.0.0,>0.24.0 in /usr/local/lib/python3.9/dist-packages (from snowflake-connector-python[pandas]->evals==0.1.1) (1.5.1)\n",
            "Requirement already satisfied: cffi<2.0.0,>=1.9 in /usr/local/lib/python3.9/dist-packages (from snowflake-connector-python[pandas]->evals==0.1.1) (1.15.1)\n",
            "Requirement already satisfied: charset-normalizer<3,>=2 in /usr/local/lib/python3.9/dist-packages (from snowflake-connector-python[pandas]->evals==0.1.1) (2.0.12)\n",
            "Requirement already satisfied: oscrypto<2.0.0 in /usr/local/lib/python3.9/dist-packages (from snowflake-connector-python[pandas]->evals==0.1.1) (1.3.0)\n",
            "Requirement already satisfied: pyjwt<3.0.0 in /usr/local/lib/python3.9/dist-packages (from snowflake-connector-python[pandas]->evals==0.1.1) (2.6.0)\n",
            "Requirement already satisfied: pyarrow<10.1.0,>=10.0.1 in /usr/local/lib/python3.9/dist-packages (from snowflake-connector-python[pandas]->evals==0.1.1) (10.0.1)\n",
            "Requirement already satisfied: tokenizers!=0.11.3,<0.14,>=0.11.1 in /usr/local/lib/python3.9/dist-packages (from transformers->evals==0.1.1) (0.13.3)\n",
            "Requirement already satisfied: huggingface-hub<1.0,>=0.11.0 in /usr/local/lib/python3.9/dist-packages (from transformers->evals==0.1.1) (0.13.4)\n",
            "Requirement already satisfied: bitsandbytes in /usr/local/lib/python3.9/dist-packages (from xturing->evals==0.1.1) (0.37.2)\n",
            "Requirement already satisfied: wget in /usr/local/lib/python3.9/dist-packages (from xturing->evals==0.1.1) (3.2)\n",
            "Requirement already satisfied: torch>=1.9.0 in /usr/local/lib/python3.9/dist-packages (from xturing->evals==0.1.1) (2.0.0+cu118)\n",
            "Requirement already satisfied: ipywidgets in /usr/local/lib/python3.9/dist-packages (from xturing->evals==0.1.1) (7.7.1)\n",
            "Requirement already satisfied: cohere in /usr/local/lib/python3.9/dist-packages (from xturing->evals==0.1.1) (4.1.4)\n",
            "Requirement already satisfied: sentencepiece in /usr/local/lib/python3.9/dist-packages (from xturing->evals==0.1.1) (0.1.97)\n",
            "Requirement already satisfied: gradio in /usr/local/lib/python3.9/dist-packages (from xturing->evals==0.1.1) (3.24.1)\n",
            "Requirement already satisfied: datasets in /usr/local/lib/python3.9/dist-packages (from xturing->evals==0.1.1) (2.11.0)\n",
            "Requirement already satisfied: ai21 in /usr/local/lib/python3.9/dist-packages (from xturing->evals==0.1.1) (1.0.3)\n",
            "Requirement already satisfied: rouge-score>=0.1.2 in /usr/local/lib/python3.9/dist-packages (from xturing->evals==0.1.1) (0.1.2)\n",
            "Requirement already satisfied: pytorch-lightning in /usr/local/lib/python3.9/dist-packages (from xturing->evals==0.1.1) (2.0.1)\n",
            "Requirement already satisfied: evaluate in /usr/local/lib/python3.9/dist-packages (from xturing->evals==0.1.1) (0.4.0)\n",
            "Requirement already satisfied: deepspeed in /usr/local/lib/python3.9/dist-packages (from xturing->evals==0.1.1) (0.8.3)\n",
            "Requirement already satisfied: pycparser in /usr/local/lib/python3.9/dist-packages (from cffi<2.0.0,>=1.9->snowflake-connector-python[pandas]->evals==0.1.1) (2.21)\n",
            "Requirement already satisfied: zipp>=3.1.0 in /usr/local/lib/python3.9/dist-packages (from importlib-resources>=3.2.0->matplotlib->evals==0.1.1) (3.15.0)\n",
            "Requirement already satisfied: absl-py in /usr/local/lib/python3.9/dist-packages (from rouge-score>=0.1.2->xturing->evals==0.1.1) (1.4.0)\n",
            "Requirement already satisfied: sympy in /usr/local/lib/python3.9/dist-packages (from torch>=1.9.0->xturing->evals==0.1.1) (1.11.1)\n",
            "Requirement already satisfied: triton==2.0.0 in /usr/local/lib/python3.9/dist-packages (from torch>=1.9.0->xturing->evals==0.1.1) (2.0.0)\n",
            "Requirement already satisfied: jinja2 in /usr/local/lib/python3.9/dist-packages (from torch>=1.9.0->xturing->evals==0.1.1) (3.1.2)\n",
            "Requirement already satisfied: networkx in /usr/local/lib/python3.9/dist-packages (from torch>=1.9.0->xturing->evals==0.1.1) (3.0)\n",
            "Requirement already satisfied: lit in /usr/local/lib/python3.9/dist-packages (from triton==2.0.0->torch>=1.9.0->xturing->evals==0.1.1) (16.0.0)\n",
            "Requirement already satisfied: cmake in /usr/local/lib/python3.9/dist-packages (from triton==2.0.0->torch>=1.9.0->xturing->evals==0.1.1) (3.25.2)\n",
            "Requirement already satisfied: async-timeout<5.0,>=4.0.0a3 in /usr/local/lib/python3.9/dist-packages (from aiohttp->openai>=0.27.2->evals==0.1.1) (4.0.2)\n",
            "Requirement already satisfied: attrs>=17.3.0 in /usr/local/lib/python3.9/dist-packages (from aiohttp->openai>=0.27.2->evals==0.1.1) (22.2.0)\n",
            "Requirement already satisfied: multidict<7.0,>=4.5 in /usr/local/lib/python3.9/dist-packages (from aiohttp->openai>=0.27.2->evals==0.1.1) (6.0.4)\n",
            "Requirement already satisfied: frozenlist>=1.1.1 in /usr/local/lib/python3.9/dist-packages (from aiohttp->openai>=0.27.2->evals==0.1.1) (1.3.3)\n",
            "Requirement already satisfied: aiosignal>=1.1.2 in /usr/local/lib/python3.9/dist-packages (from aiohttp->openai>=0.27.2->evals==0.1.1) (1.3.1)\n",
            "Requirement already satisfied: yarl<2.0,>=1.0 in /usr/local/lib/python3.9/dist-packages (from aiohttp->openai>=0.27.2->evals==0.1.1) (1.8.2)\n",
            "Requirement already satisfied: dill<0.3.7,>=0.3.0 in /usr/local/lib/python3.9/dist-packages (from datasets->xturing->evals==0.1.1) (0.3.6)\n",
            "Requirement already satisfied: xxhash in /usr/local/lib/python3.9/dist-packages (from datasets->xturing->evals==0.1.1) (3.2.0)\n",
            "Requirement already satisfied: responses<0.19 in /usr/local/lib/python3.9/dist-packages (from datasets->xturing->evals==0.1.1) (0.18.0)\n",
            "Requirement already satisfied: fsspec[http]>=2021.11.1 in /usr/local/lib/python3.9/dist-packages (from datasets->xturing->evals==0.1.1) (2023.3.0)\n",
            "Requirement already satisfied: multiprocess in /usr/local/lib/python3.9/dist-packages (from datasets->xturing->evals==0.1.1) (0.70.14)\n",
            "Requirement already satisfied: psutil in /usr/local/lib/python3.9/dist-packages (from deepspeed->xturing->evals==0.1.1) (5.9.4)\n",
            "Requirement already satisfied: hjson in /usr/local/lib/python3.9/dist-packages (from deepspeed->xturing->evals==0.1.1) (3.1.0)\n",
            "Requirement already satisfied: py-cpuinfo in /usr/local/lib/python3.9/dist-packages (from deepspeed->xturing->evals==0.1.1) (9.0.0)\n",
            "Requirement already satisfied: ninja in /usr/local/lib/python3.9/dist-packages (from deepspeed->xturing->evals==0.1.1) (1.11.1)\n",
            "Requirement already satisfied: python-multipart in /usr/local/lib/python3.9/dist-packages (from gradio->xturing->evals==0.1.1) (0.0.6)\n",
            "Requirement already satisfied: markupsafe in /usr/local/lib/python3.9/dist-packages (from gradio->xturing->evals==0.1.1) (2.1.2)\n",
            "Requirement already satisfied: markdown-it-py[linkify]>=2.0.0 in /usr/local/lib/python3.9/dist-packages (from gradio->xturing->evals==0.1.1) (2.2.0)\n",
            "Requirement already satisfied: ffmpy in /usr/local/lib/python3.9/dist-packages (from gradio->xturing->evals==0.1.1) (0.3.0)\n",
            "Requirement already satisfied: pydub in /usr/local/lib/python3.9/dist-packages (from gradio->xturing->evals==0.1.1) (0.25.1)\n",
            "Requirement already satisfied: altair>=4.2.0 in /usr/local/lib/python3.9/dist-packages (from gradio->xturing->evals==0.1.1) (4.2.2)\n",
            "Requirement already satisfied: httpx in /usr/local/lib/python3.9/dist-packages (from gradio->xturing->evals==0.1.1) (0.23.3)\n",
            "Requirement already satisfied: orjson in /usr/local/lib/python3.9/dist-packages (from gradio->xturing->evals==0.1.1) (3.8.10)\n",
            "Requirement already satisfied: semantic-version in /usr/local/lib/python3.9/dist-packages (from gradio->xturing->evals==0.1.1) (2.10.0)\n",
            "Requirement already satisfied: mdit-py-plugins<=0.3.3 in /usr/local/lib/python3.9/dist-packages (from gradio->xturing->evals==0.1.1) (0.3.3)\n",
            "Requirement already satisfied: aiofiles in /usr/local/lib/python3.9/dist-packages (from gradio->xturing->evals==0.1.1) (23.1.0)\n",
            "Requirement already satisfied: fastapi in /usr/local/lib/python3.9/dist-packages (from gradio->xturing->evals==0.1.1) (0.95.0)\n",
            "Requirement already satisfied: uvicorn in /usr/local/lib/python3.9/dist-packages (from gradio->xturing->evals==0.1.1) (0.21.1)\n",
            "Requirement already satisfied: gradio-client>=0.0.5 in /usr/local/lib/python3.9/dist-packages (from gradio->xturing->evals==0.1.1) (0.0.8)\n",
            "Requirement already satisfied: websockets>=10.0 in /usr/local/lib/python3.9/dist-packages (from gradio->xturing->evals==0.1.1) (11.0.1)\n",
            "Requirement already satisfied: widgetsnbextension~=3.6.0 in /usr/local/lib/python3.9/dist-packages (from ipywidgets->xturing->evals==0.1.1) (3.6.4)\n",
            "Requirement already satisfied: ipython>=4.0.0 in /usr/local/lib/python3.9/dist-packages (from ipywidgets->xturing->evals==0.1.1) (7.34.0)\n",
            "Requirement already satisfied: traitlets>=4.3.1 in /usr/local/lib/python3.9/dist-packages (from ipywidgets->xturing->evals==0.1.1) (5.7.1)\n",
            "Requirement already satisfied: ipykernel>=4.5.1 in /usr/local/lib/python3.9/dist-packages (from ipywidgets->xturing->evals==0.1.1) (5.5.6)\n",
            "Requirement already satisfied: jupyterlab-widgets>=1.0.0 in /usr/local/lib/python3.9/dist-packages (from ipywidgets->xturing->evals==0.1.1) (3.0.7)\n",
            "Requirement already satisfied: ipython-genutils~=0.2.0 in /usr/local/lib/python3.9/dist-packages (from ipywidgets->xturing->evals==0.1.1) (0.2.0)\n",
            "Requirement already satisfied: lightning-utilities>=0.7.0 in /usr/local/lib/python3.9/dist-packages (from pytorch-lightning->xturing->evals==0.1.1) (0.8.0)\n",
            "Requirement already satisfied: torchmetrics>=0.7.0 in /usr/local/lib/python3.9/dist-packages (from pytorch-lightning->xturing->evals==0.1.1) (0.11.4)\n",
            "Requirement already satisfied: entrypoints in /usr/local/lib/python3.9/dist-packages (from altair>=4.2.0->gradio->xturing->evals==0.1.1) (0.4)\n",
            "Requirement already satisfied: jsonschema>=3.0 in /usr/local/lib/python3.9/dist-packages (from altair>=4.2.0->gradio->xturing->evals==0.1.1) (4.3.3)\n",
            "Requirement already satisfied: toolz in /usr/local/lib/python3.9/dist-packages (from altair>=4.2.0->gradio->xturing->evals==0.1.1) (0.12.0)\n",
            "Requirement already satisfied: jupyter-client in /usr/local/lib/python3.9/dist-packages (from ipykernel>=4.5.1->ipywidgets->xturing->evals==0.1.1) (6.1.12)\n",
            "Requirement already satisfied: tornado>=4.2 in /usr/local/lib/python3.9/dist-packages (from ipykernel>=4.5.1->ipywidgets->xturing->evals==0.1.1) (6.2)\n",
            "Requirement already satisfied: setuptools>=18.5 in /usr/local/lib/python3.9/dist-packages (from ipython>=4.0.0->ipywidgets->xturing->evals==0.1.1) (67.6.1)\n",
            "Requirement already satisfied: decorator in /usr/local/lib/python3.9/dist-packages (from ipython>=4.0.0->ipywidgets->xturing->evals==0.1.1) (4.4.2)\n",
            "Requirement already satisfied: pexpect>4.3 in /usr/local/lib/python3.9/dist-packages (from ipython>=4.0.0->ipywidgets->xturing->evals==0.1.1) (4.8.0)\n",
            "Requirement already satisfied: matplotlib-inline in /usr/local/lib/python3.9/dist-packages (from ipython>=4.0.0->ipywidgets->xturing->evals==0.1.1) (0.1.6)\n",
            "Requirement already satisfied: pygments in /usr/local/lib/python3.9/dist-packages (from ipython>=4.0.0->ipywidgets->xturing->evals==0.1.1) (2.14.0)\n",
            "Requirement already satisfied: pickleshare in /usr/local/lib/python3.9/dist-packages (from ipython>=4.0.0->ipywidgets->xturing->evals==0.1.1) (0.7.5)\n",
            "Requirement already satisfied: jedi>=0.16 in /usr/local/lib/python3.9/dist-packages (from ipython>=4.0.0->ipywidgets->xturing->evals==0.1.1) (0.18.2)\n",
            "Requirement already satisfied: backcall in /usr/local/lib/python3.9/dist-packages (from ipython>=4.0.0->ipywidgets->xturing->evals==0.1.1) (0.2.0)\n",
            "Requirement already satisfied: prompt-toolkit!=3.0.0,!=3.0.1,<3.1.0,>=2.0.0 in /usr/local/lib/python3.9/dist-packages (from ipython>=4.0.0->ipywidgets->xturing->evals==0.1.1) (3.0.38)\n",
            "Requirement already satisfied: mdurl~=0.1 in /usr/local/lib/python3.9/dist-packages (from markdown-it-py[linkify]>=2.0.0->gradio->xturing->evals==0.1.1) (0.1.2)\n",
            "Requirement already satisfied: linkify-it-py<3,>=1 in /usr/local/lib/python3.9/dist-packages (from markdown-it-py[linkify]>=2.0.0->gradio->xturing->evals==0.1.1) (2.0.0)\n",
            "Requirement already satisfied: notebook>=4.4.1 in /usr/local/lib/python3.9/dist-packages (from widgetsnbextension~=3.6.0->ipywidgets->xturing->evals==0.1.1) (6.4.8)\n",
            "Requirement already satisfied: starlette<0.27.0,>=0.26.1 in /usr/local/lib/python3.9/dist-packages (from fastapi->gradio->xturing->evals==0.1.1) (0.26.1)\n",
            "Requirement already satisfied: sniffio in /usr/local/lib/python3.9/dist-packages (from httpx->gradio->xturing->evals==0.1.1) (1.3.0)\n",
            "Requirement already satisfied: httpcore<0.17.0,>=0.15.0 in /usr/local/lib/python3.9/dist-packages (from httpx->gradio->xturing->evals==0.1.1) (0.16.3)\n",
            "Requirement already satisfied: rfc3986[idna2008]<2,>=1.3 in /usr/local/lib/python3.9/dist-packages (from httpx->gradio->xturing->evals==0.1.1) (1.5.0)\n",
            "Requirement already satisfied: mpmath>=0.19 in /usr/local/lib/python3.9/dist-packages (from sympy->torch>=1.9.0->xturing->evals==0.1.1) (1.3.0)\n",
            "Requirement already satisfied: h11>=0.8 in /usr/local/lib/python3.9/dist-packages (from uvicorn->gradio->xturing->evals==0.1.1) (0.14.0)\n",
            "Requirement already satisfied: anyio<5.0,>=3.0 in /usr/local/lib/python3.9/dist-packages (from httpcore<0.17.0,>=0.15.0->httpx->gradio->xturing->evals==0.1.1) (3.6.2)\n",
            "Requirement already satisfied: parso<0.9.0,>=0.8.0 in /usr/local/lib/python3.9/dist-packages (from jedi>=0.16->ipython>=4.0.0->ipywidgets->xturing->evals==0.1.1) (0.8.3)\n",
            "Requirement already satisfied: pyrsistent!=0.17.0,!=0.17.1,!=0.17.2,>=0.14.0 in /usr/local/lib/python3.9/dist-packages (from jsonschema>=3.0->altair>=4.2.0->gradio->xturing->evals==0.1.1) (0.19.3)\n",
            "Requirement already satisfied: uc-micro-py in /usr/local/lib/python3.9/dist-packages (from linkify-it-py<3,>=1->markdown-it-py[linkify]>=2.0.0->gradio->xturing->evals==0.1.1) (1.0.1)\n",
            "Requirement already satisfied: terminado>=0.8.3 in /usr/local/lib/python3.9/dist-packages (from notebook>=4.4.1->widgetsnbextension~=3.6.0->ipywidgets->xturing->evals==0.1.1) (0.17.1)\n",
            "Requirement already satisfied: nbformat in /usr/local/lib/python3.9/dist-packages (from notebook>=4.4.1->widgetsnbextension~=3.6.0->ipywidgets->xturing->evals==0.1.1) (5.8.0)\n",
            "Requirement already satisfied: jupyter-core>=4.6.1 in /usr/local/lib/python3.9/dist-packages (from notebook>=4.4.1->widgetsnbextension~=3.6.0->ipywidgets->xturing->evals==0.1.1) (5.3.0)\n",
            "Requirement already satisfied: Send2Trash>=1.8.0 in /usr/local/lib/python3.9/dist-packages (from notebook>=4.4.1->widgetsnbextension~=3.6.0->ipywidgets->xturing->evals==0.1.1) (1.8.0)\n",
            "Requirement already satisfied: prometheus-client in /usr/local/lib/python3.9/dist-packages (from notebook>=4.4.1->widgetsnbextension~=3.6.0->ipywidgets->xturing->evals==0.1.1) (0.16.0)\n",
            "Requirement already satisfied: pyzmq>=17 in /usr/local/lib/python3.9/dist-packages (from notebook>=4.4.1->widgetsnbextension~=3.6.0->ipywidgets->xturing->evals==0.1.1) (23.2.1)\n",
            "Requirement already satisfied: nest-asyncio>=1.5 in /usr/local/lib/python3.9/dist-packages (from notebook>=4.4.1->widgetsnbextension~=3.6.0->ipywidgets->xturing->evals==0.1.1) (1.5.6)\n",
            "Requirement already satisfied: argon2-cffi in /usr/local/lib/python3.9/dist-packages (from notebook>=4.4.1->widgetsnbextension~=3.6.0->ipywidgets->xturing->evals==0.1.1) (21.3.0)\n",
            "Requirement already satisfied: nbconvert in /usr/local/lib/python3.9/dist-packages (from notebook>=4.4.1->widgetsnbextension~=3.6.0->ipywidgets->xturing->evals==0.1.1) (6.5.4)\n",
            "Requirement already satisfied: ptyprocess>=0.5 in /usr/local/lib/python3.9/dist-packages (from pexpect>4.3->ipython>=4.0.0->ipywidgets->xturing->evals==0.1.1) (0.7.0)\n",
            "Requirement already satisfied: wcwidth in /usr/local/lib/python3.9/dist-packages (from prompt-toolkit!=3.0.0,!=3.0.1,<3.1.0,>=2.0.0->ipython>=4.0.0->ipywidgets->xturing->evals==0.1.1) (0.2.6)\n",
            "Requirement already satisfied: platformdirs>=2.5 in /usr/local/lib/python3.9/dist-packages (from jupyter-core>=4.6.1->notebook>=4.4.1->widgetsnbextension~=3.6.0->ipywidgets->xturing->evals==0.1.1) (3.2.0)\n",
            "Requirement already satisfied: argon2-cffi-bindings in /usr/local/lib/python3.9/dist-packages (from argon2-cffi->notebook>=4.4.1->widgetsnbextension~=3.6.0->ipywidgets->xturing->evals==0.1.1) (21.2.0)\n",
            "Requirement already satisfied: tinycss2 in /usr/local/lib/python3.9/dist-packages (from nbconvert->notebook>=4.4.1->widgetsnbextension~=3.6.0->ipywidgets->xturing->evals==0.1.1) (1.2.1)\n",
            "Requirement already satisfied: beautifulsoup4 in /usr/local/lib/python3.9/dist-packages (from nbconvert->notebook>=4.4.1->widgetsnbextension~=3.6.0->ipywidgets->xturing->evals==0.1.1) (4.11.2)\n",
            "Requirement already satisfied: defusedxml in /usr/local/lib/python3.9/dist-packages (from nbconvert->notebook>=4.4.1->widgetsnbextension~=3.6.0->ipywidgets->xturing->evals==0.1.1) (0.7.1)\n",
            "Requirement already satisfied: jupyterlab-pygments in /usr/local/lib/python3.9/dist-packages (from nbconvert->notebook>=4.4.1->widgetsnbextension~=3.6.0->ipywidgets->xturing->evals==0.1.1) (0.2.2)\n",
            "Requirement already satisfied: mistune<2,>=0.8.1 in /usr/local/lib/python3.9/dist-packages (from nbconvert->notebook>=4.4.1->widgetsnbextension~=3.6.0->ipywidgets->xturing->evals==0.1.1) (0.8.4)\n",
            "Requirement already satisfied: nbclient>=0.5.0 in /usr/local/lib/python3.9/dist-packages (from nbconvert->notebook>=4.4.1->widgetsnbextension~=3.6.0->ipywidgets->xturing->evals==0.1.1) (0.7.3)\n",
            "Requirement already satisfied: pandocfilters>=1.4.1 in /usr/local/lib/python3.9/dist-packages (from nbconvert->notebook>=4.4.1->widgetsnbextension~=3.6.0->ipywidgets->xturing->evals==0.1.1) (1.5.0)\n",
            "Requirement already satisfied: bleach in /usr/local/lib/python3.9/dist-packages (from nbconvert->notebook>=4.4.1->widgetsnbextension~=3.6.0->ipywidgets->xturing->evals==0.1.1) (6.0.0)\n",
            "Requirement already satisfied: fastjsonschema in /usr/local/lib/python3.9/dist-packages (from nbformat->notebook>=4.4.1->widgetsnbextension~=3.6.0->ipywidgets->xturing->evals==0.1.1) (2.16.3)\n",
            "Requirement already satisfied: soupsieve>1.2 in /usr/local/lib/python3.9/dist-packages (from beautifulsoup4->nbconvert->notebook>=4.4.1->widgetsnbextension~=3.6.0->ipywidgets->xturing->evals==0.1.1) (2.4)\n",
            "Requirement already satisfied: webencodings in /usr/local/lib/python3.9/dist-packages (from bleach->nbconvert->notebook>=4.4.1->widgetsnbextension~=3.6.0->ipywidgets->xturing->evals==0.1.1) (0.5.1)\n",
            "Building wheels for collected packages: evals\n",
            "  Building editable for evals (pyproject.toml) ... \u001b[?25l\u001b[?25hdone\n",
            "  Created wheel for evals: filename=evals-0.1.1-0.editable-py3-none-any.whl size=4176 sha256=767fd150e17899f19ab3dc434e732e1dc8c38458860594d8e07867cf04d62d3c\n",
            "  Stored in directory: /tmp/pip-ephem-wheel-cache-jmn2m924/wheels/32/43/3b/ec40a2332f30a78207e3dd1c74b0a70ac93850e229976cf1db\n",
            "Successfully built evals\n",
            "Installing collected packages: evals\n",
            "  Attempting uninstall: evals\n",
            "    Found existing installation: evals 0.1.1\n",
            "    Uninstalling evals-0.1.1:\n",
            "      Successfully uninstalled evals-0.1.1\n",
            "Successfully installed evals-0.1.1\n"
          ]
        }
      ]
    },
    {
      "cell_type": "code",
      "source": [
        "!EVALS_THREADS=1 oaieval_custom gpt2_lora test-match"
      ],
      "metadata": {
        "id": "iyDG1ju4Vser",
        "colab": {
          "base_uri": "https://localhost:8080/"
        },
        "outputId": "e690ecbf-b4ff-435e-e7ba-501b2bf5b01c"
      },
      "execution_count": 16,
      "outputs": [
        {
          "output_type": "stream",
          "name": "stdout",
          "text": [
            "2023-04-09 20:55:04.362767: W tensorflow/compiler/tf2tensorrt/utils/py_utils.cc:38] TF-TRT Warning: Could not find TensorRT\n",
            "[2023-04-09 20:55:06,645] [registry.py:153] Loading registry from /content/Xturing_evals/evals/registry/evals\n",
            "[2023-04-09 20:55:06,711] [registry.py:153] Loading registry from /root/.evals/evals\n",
            "[2023-04-09 20:55:06,712] [oaieval_custom.py:206] \u001b[1;35mRun started: 230409205506ETJWMC6S\u001b[0m\n",
            "[2023-04-09 20:55:06,714] [data.py:75] Fetching test_match/samples.jsonl\n",
            "[2023-04-09 20:55:06,715] [eval.py:32] Evaluating 3 samples\n",
            "[2023-04-09 20:55:06,716] [eval.py:152] Running in threaded mode with 1 threads!\n",
            "100% 3/3 [01:01<00:00, 20.46s/it]\n",
            "[2023-04-09 20:56:08,085] [record.py:320] Final report: {'accuracy': 0.0}. Logged to /tmp/evallogs/230409205506ETJWMC6S_gpt2_lora_test-match.jsonl\n",
            "[2023-04-09 20:56:08,085] [oaieval_custom.py:243] Final report:\n",
            "[2023-04-09 20:56:08,085] [oaieval_custom.py:245] accuracy: 0.0\n",
            "[2023-04-09 20:56:08,086] [record.py:309] Logged 9 rows of events to /tmp/evallogs/230409205506ETJWMC6S_gpt2_lora_test-match.jsonl: insert_time=0.962ms\n"
          ]
        }
      ]
    },
    {
      "cell_type": "code",
      "source": [
        "!cat /tmp/evallogs/230409205506ETJWMC6S_gpt2_lora_test-match.jsonl"
      ],
      "metadata": {
        "colab": {
          "base_uri": "https://localhost:8080/"
        },
        "id": "pREZzm9rhGUR",
        "outputId": "ed7322f7-193d-48f4-ddba-d960324e7136"
      },
      "execution_count": 17,
      "outputs": [
        {
          "output_type": "stream",
          "name": "stdout",
          "text": [
            "{\"spec\": {\"model_name\": \"gpt2_lora\", \"model_names\": {\"completions\": [\"gpt2_lora\"]}, \"eval_name\": \"test-match.s1.simple-v0\", \"base_eval\": \"test-match\", \"split\": \"s1\", \"run_config\": {\"model_specs\": {\"completions_\": [{\"name\": \"gpt2_lora\", \"model\": \"gpt2_lora\", \"is_chat\": false, \"encoding\": null, \"organization\": null, \"api_key\": null, \"extra_options\": {}, \"headers\": {}, \"strip_completion\": true, \"n_ctx\": null, \"format\": null, \"key\": null, \"group\": null}], \"embedding_\": null, \"ranking_\": null}, \"eval_spec\": {\"cls\": \"evals.elsuite.basic.match:Match\", \"args\": {\"samples_jsonl\": \"test_match/samples.jsonl\"}, \"key\": \"test-match.s1.simple-v0\", \"group\": \"test-basic\"}, \"seed\": 20220722, \"max_samples\": null, \"command\": \"/usr/local/bin/oaieval_custom gpt2_lora test-match\", \"initial_settings\": {\"visible\": true}}, \"created_by\": \"\", \"run_id\": \"230409205506ETJWMC6S\", \"created_at\": \"2023-04-09 20:55:06.711583\"}}\n",
            "{\"final_report\": {\"accuracy\": 0.0}}\n",
            "{\"run_id\": \"230409205506ETJWMC6S\", \"event_id\": 0, \"sample_id\": \"test-match.s1.2\", \"type\": \"raw_sample\", \"data\": {\"input\": [{\"role\": \"system\", \"content\": \"Complete the phrase as concisely as possible.\"}, {\"role\": \"user\", \"content\": \"OpenAI was founded in 20\"}], \"ideal\": \"15\"}, \"created_by\": \"\", \"created_at\": \"2023-04-09 20:55:06.717569+00:00\"}\n",
            "{\"run_id\": \"230409205506ETJWMC6S\", \"event_id\": 1, \"sample_id\": \"test-match.s1.2\", \"type\": \"sampling\", \"data\": {\"prompt\": \"Complete the phrase as concisely as possible. OpenAI was founded in 20\", \"sampled\": \"32 by MIT and MIT's Jet Propulsion Laboratory, which reported funded first technology in 1995. Intel researchers and (now) the International Society of Software Engineers recently developed the earliest version of the Breakout To Computer Programming (BTO) framework for all and through the then Intel Initiative, the OFEEM (Intel Computer Inc.).\\n\\nWhen Nestor called in 2013, she began to offer his roadmap for taking company engineering technologies offline.\\n\\n\\\"In the long term, it's probably going to become more a requirement, there's always a need for these fields to be able to support almost every aspect of this mission and make sure that we do really well at the same time,\\\" he said.\\n\\nNestor pointed out that many technology companies currently work on other big world issues like decentralization of computing power, computing power for utilities, virtualisation, data security, and security. Many more new work has to be done that requires new government-led technologists, he added.\", \"options\": [\"15\"], \"picked\": null, \"expected\": [\"15\"], \"match\": false, \"metadata\": {\"model\": \"gpt2_lora\"}}, \"created_by\": \"\", \"created_at\": \"2023-04-09 20:55:28.815924+00:00\"}\n",
            "{\"run_id\": \"230409205506ETJWMC6S\", \"event_id\": 2, \"sample_id\": \"test-match.s1.2\", \"type\": \"match\", \"data\": {\"correct\": false, \"expected\": \"15\", \"picked\": null, \"sampled\": \"32 by MIT and MIT's Jet Propulsion Laboratory, which reported funded first technology in 1995. Intel researchers and (now) the International Society of Software Engineers recently developed the earliest version of the Breakout To Computer Programming (BTO) framework for all and through the then Intel Initiative, the OFEEM (Intel Computer Inc.).\\n\\nWhen Nestor called in 2013, she began to offer his roadmap for taking company engineering technologies offline.\\n\\n\\\"In the long term, it's probably going to become more a requirement, there's always a need for these fields to be able to support almost every aspect of this mission and make sure that we do really well at the same time,\\\" he said.\\n\\nNestor pointed out that many technology companies currently work on other big world issues like decentralization of computing power, computing power for utilities, virtualisation, data security, and security. Many more new work has to be done that requires new government-led technologists, he added.\"}, \"created_by\": \"\", \"created_at\": \"2023-04-09 20:55:28.815971+00:00\"}\n",
            "{\"run_id\": \"230409205506ETJWMC6S\", \"event_id\": 3, \"sample_id\": \"test-match.s1.1\", \"type\": \"raw_sample\", \"data\": {\"input\": [{\"role\": \"system\", \"content\": \"Complete the phrase as concisely as possible.\"}, {\"role\": \"user\", \"content\": \"The first US president was \"}], \"ideal\": \"George Washington\"}, \"created_by\": \"\", \"created_at\": \"2023-04-09 20:55:28.816532+00:00\"}\n",
            "{\"run_id\": \"230409205506ETJWMC6S\", \"event_id\": 4, \"sample_id\": \"test-match.s1.1\", \"type\": \"sampling\", \"data\": {\"prompt\": \"Complete the phrase as concisely as possible. The first US president was \", \"sampled\": \"came out against a royal decree limiting tax changes to the wealthy.  Without nuance of the situation, however, the British were at odds with the US too, with the author of the original plan proposing an unprecedented tax-cut as an explicit reaction to US government pressure. So and so  we might conclude that prohibition really was the only possible route to building a fair deal with the States, and even that hadn't helped.\\nAnd where does this leave us? On this matter, the US can now take extraordinary measures, as if it ever had to - something that feels wrong in modern terms - but it is undoubtedly to be expected.\\nAccording to the comments of UK Ambassador to Great Britain,  second cousin in office, Andrew Adams,'\\\" A previous senior diplomat admitted to the tradition of 'Plan Oamer'-a party of bluffing'', noting that the insurgents'indicated'support for a strongly-worded piece of legislation to allow tax-cuts for a few above the national average for a couple of million people.\\\" They considered their country to be the \\\"real winner.\\\" Also since Cameron is now arguing that the US is spending money every month to prevent  deprivation under the Freedom of Information Act, which would remove evidence of abuse within the US,\", \"options\": [\"George Washington\"], \"picked\": null, \"expected\": [\"George Washington\"], \"match\": false, \"metadata\": {\"model\": \"gpt2_lora\"}}, \"created_by\": \"\", \"created_at\": \"2023-04-09 20:55:48.386597+00:00\"}\n",
            "{\"run_id\": \"230409205506ETJWMC6S\", \"event_id\": 5, \"sample_id\": \"test-match.s1.1\", \"type\": \"match\", \"data\": {\"correct\": false, \"expected\": \"George Washington\", \"picked\": null, \"sampled\": \"came out against a royal decree limiting tax changes to the wealthy.  Without nuance of the situation, however, the British were at odds with the US too, with the author of the original plan proposing an unprecedented tax-cut as an explicit reaction to US government pressure. So and so  we might conclude that prohibition really was the only possible route to building a fair deal with the States, and even that hadn't helped.\\nAnd where does this leave us? On this matter, the US can now take extraordinary measures, as if it ever had to - something that feels wrong in modern terms - but it is undoubtedly to be expected.\\nAccording to the comments of UK Ambassador to Great Britain,  second cousin in office, Andrew Adams,'\\\" A previous senior diplomat admitted to the tradition of 'Plan Oamer'-a party of bluffing'', noting that the insurgents'indicated'support for a strongly-worded piece of legislation to allow tax-cuts for a few above the national average for a couple of million people.\\\" They considered their country to be the \\\"real winner.\\\" Also since Cameron is now arguing that the US is spending money every month to prevent  deprivation under the Freedom of Information Act, which would remove evidence of abuse within the US,\"}, \"created_by\": \"\", \"created_at\": \"2023-04-09 20:55:48.386638+00:00\"}\n",
            "{\"run_id\": \"230409205506ETJWMC6S\", \"event_id\": 6, \"sample_id\": \"test-match.s1.0\", \"type\": \"raw_sample\", \"data\": {\"input\": [{\"role\": \"system\", \"content\": \"Complete the phrase as concisely as possible.\"}, {\"role\": \"user\", \"content\": \"Once upon a \"}], \"ideal\": \"time\"}, \"created_by\": \"\", \"created_at\": \"2023-04-09 20:55:48.387221+00:00\"}\n",
            "{\"run_id\": \"230409205506ETJWMC6S\", \"event_id\": 7, \"sample_id\": \"test-match.s1.0\", \"type\": \"sampling\", \"data\": {\"prompt\": \"Complete the phrase as concisely as possible. Once upon a \", \"sampled\": \"ute, this should be done after sorting. One of those words can involve comma, and in some jurisdictions multiple accounts; if only one version is used, it's not an option.\\n\\nTo fix this, set the forum_delete mode to one of two options:\\n\\n• Use sort mode (default: \\\"/Post a message\\\"). Alternatively, right click the item and right-click Post a Message.\\n\\n(default: \\\"/Post a message\\\"). Alternatively, right click the item and right-click. To add a message or post deletion, right-click a link on the whole page, or right-click a post in its place. Edit these settings as necessary.\\n\\nWill you be fine though?\\n\\nAs is the case with the website dropdown menu, a confirmation dialog should be displayed. While it's a drag, it's not a very good excuse to delete a document from existence. As a website who uses easy surfing, e-mails, etc. don't have to be - up to now they just shouldn't (among other reasons, this will fail to remove bloat protection when a link of an article or non-article about a major web site goes up).\\n\\nIf this is a news site, all you need\", \"options\": [\"time\"], \"picked\": null, \"expected\": [\"time\"], \"match\": false, \"metadata\": {\"model\": \"gpt2_lora\"}}, \"created_by\": \"\", \"created_at\": \"2023-04-09 20:56:08.082703+00:00\"}\n",
            "{\"run_id\": \"230409205506ETJWMC6S\", \"event_id\": 8, \"sample_id\": \"test-match.s1.0\", \"type\": \"match\", \"data\": {\"correct\": false, \"expected\": \"time\", \"picked\": null, \"sampled\": \"ute, this should be done after sorting. One of those words can involve comma, and in some jurisdictions multiple accounts; if only one version is used, it's not an option.\\n\\nTo fix this, set the forum_delete mode to one of two options:\\n\\n• Use sort mode (default: \\\"/Post a message\\\"). Alternatively, right click the item and right-click Post a Message.\\n\\n(default: \\\"/Post a message\\\"). Alternatively, right click the item and right-click. To add a message or post deletion, right-click a link on the whole page, or right-click a post in its place. Edit these settings as necessary.\\n\\nWill you be fine though?\\n\\nAs is the case with the website dropdown menu, a confirmation dialog should be displayed. While it's a drag, it's not a very good excuse to delete a document from existence. As a website who uses easy surfing, e-mails, etc. don't have to be - up to now they just shouldn't (among other reasons, this will fail to remove bloat protection when a link of an article or non-article about a major web site goes up).\\n\\nIf this is a news site, all you need\"}, \"created_by\": \"\", \"created_at\": \"2023-04-09 20:56:08.082748+00:00\"}\n"
          ]
        }
      ]
    }
  ]
}